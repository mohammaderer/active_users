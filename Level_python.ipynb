{
 "cells": [
  {
   "cell_type": "markdown",
   "metadata": {},
   "source": [
    "# 5 Levels of Python Tags"
   ]
  },
  {
   "cell_type": "code",
   "execution_count": 17,
   "metadata": {},
   "outputs": [],
   "source": [
    "from apyori import apriori\n",
    "import pandas as pd\n",
    "df = pd.read_csv('C:/Users/moham/OneDrive/Desktop/final.csv')\n",
    "df['tags'] = df['tags'].apply(lambda x: x.replace('|',','),)\n",
    "df = df.drop('Unnamed: 0',axis=1)"
   ]
  },
  {
   "cell_type": "code",
   "execution_count": 18,
   "metadata": {},
   "outputs": [],
   "source": [
    "def find_lan(lan):\n",
    "    tags = df['tags'][df['tags'].str.contains('python')].reset_index()\n",
    "    matches = []\n",
    "    for c in tags['tags']:\n",
    "        if lan in c:\n",
    "            matches.append(c)\n",
    "    pg = pd.DataFrame(matches)\n",
    "    pg = pg.drop_duplicates(subset=[0]).reset_index()\n",
    "    pg = pg.rename(columns={0: 'tags'})\n",
    "    pg = pg.drop('index',axis=1)\n",
    "    pg[\"len\"] = pg['tags'].apply(lambda x: len(x.split(',')))\n",
    "    return pg"
   ]
  },
  {
   "cell_type": "code",
   "execution_count": 19,
   "metadata": {},
   "outputs": [],
   "source": [
    "all_rules = find_lan('python' or'python-2.7'or'python-2.x' or'python-3.4'or'python-3.5'or'python-3.x').sort_values('len',ascending=True)"
   ]
  },
  {
   "cell_type": "code",
   "execution_count": 20,
   "metadata": {},
   "outputs": [
    {
     "data": {
      "text/html": [
       "<div>\n",
       "<style scoped>\n",
       "    .dataframe tbody tr th:only-of-type {\n",
       "        vertical-align: middle;\n",
       "    }\n",
       "\n",
       "    .dataframe tbody tr th {\n",
       "        vertical-align: top;\n",
       "    }\n",
       "\n",
       "    .dataframe thead th {\n",
       "        text-align: right;\n",
       "    }\n",
       "</style>\n",
       "<table border=\"1\" class=\"dataframe\">\n",
       "  <thead>\n",
       "    <tr style=\"text-align: right;\">\n",
       "      <th></th>\n",
       "      <th>tags</th>\n",
       "      <th>len</th>\n",
       "    </tr>\n",
       "  </thead>\n",
       "  <tbody>\n",
       "    <tr>\n",
       "      <th>419</th>\n",
       "      <td>python,logging,colors</td>\n",
       "      <td>3</td>\n",
       "    </tr>\n",
       "    <tr>\n",
       "      <th>318</th>\n",
       "      <td>python,numpy,pycharm</td>\n",
       "      <td>3</td>\n",
       "    </tr>\n",
       "    <tr>\n",
       "      <th>370</th>\n",
       "      <td>python,unicode,decode</td>\n",
       "      <td>3</td>\n",
       "    </tr>\n",
       "    <tr>\n",
       "      <th>439</th>\n",
       "      <td>python,windows,ansi</td>\n",
       "      <td>3</td>\n",
       "    </tr>\n",
       "    <tr>\n",
       "      <th>420</th>\n",
       "      <td>python,opencv,opencv-contour</td>\n",
       "      <td>3</td>\n",
       "    </tr>\n",
       "    <tr>\n",
       "      <th>...</th>\n",
       "      <td>...</td>\n",
       "      <td>...</td>\n",
       "    </tr>\n",
       "    <tr>\n",
       "      <th>29</th>\n",
       "      <td>python,list,replace</td>\n",
       "      <td>3</td>\n",
       "    </tr>\n",
       "    <tr>\n",
       "      <th>274</th>\n",
       "      <td>python,opencv,numpy</td>\n",
       "      <td>3</td>\n",
       "    </tr>\n",
       "    <tr>\n",
       "      <th>171</th>\n",
       "      <td>python,pandas,multi-index</td>\n",
       "      <td>3</td>\n",
       "    </tr>\n",
       "    <tr>\n",
       "      <th>271</th>\n",
       "      <td>python,zoom,pyqtgraph</td>\n",
       "      <td>3</td>\n",
       "    </tr>\n",
       "    <tr>\n",
       "      <th>130</th>\n",
       "      <td>python,mysql,mysql-python</td>\n",
       "      <td>3</td>\n",
       "    </tr>\n",
       "  </tbody>\n",
       "</table>\n",
       "<p>265 rows × 2 columns</p>\n",
       "</div>"
      ],
      "text/plain": [
       "                             tags  len\n",
       "419         python,logging,colors    3\n",
       "318          python,numpy,pycharm    3\n",
       "370         python,unicode,decode    3\n",
       "439           python,windows,ansi    3\n",
       "420  python,opencv,opencv-contour    3\n",
       "..                            ...  ...\n",
       "29            python,list,replace    3\n",
       "274           python,opencv,numpy    3\n",
       "171     python,pandas,multi-index    3\n",
       "271         python,zoom,pyqtgraph    3\n",
       "130     python,mysql,mysql-python    3\n",
       "\n",
       "[265 rows x 2 columns]"
      ]
     },
     "execution_count": 20,
     "metadata": {},
     "output_type": "execute_result"
    }
   ],
   "source": [
    "all_rules[all_rules['len']==3]"
   ]
  },
  {
   "cell_type": "code",
   "execution_count": 21,
   "metadata": {},
   "outputs": [],
   "source": [
    "rules_2 = all_rules[all_rules['len'] == 2]\n",
    "rules_3 = all_rules[all_rules['len'] == 3]\n",
    "rules_4 = all_rules[all_rules['len'] == 4]\n",
    "rules_5 = all_rules[all_rules['len'] == 5]"
   ]
  },
  {
   "cell_type": "code",
   "execution_count": 22,
   "metadata": {},
   "outputs": [],
   "source": [
    "pp = ['python-2.7','python-2.x','python-3.4','python-3.5','python-3.x']\n",
    "pattern = '|'.join(pp)"
   ]
  },
  {
   "cell_type": "code",
   "execution_count": 23,
   "metadata": {},
   "outputs": [],
   "source": [
    "def find_pure(rule_len):\n",
    "    newlist_2 = []\n",
    "    for word in list(rule_len['tags']):\n",
    "        word = word.split(\",\")\n",
    "        newlist_2.extend(word)\n",
    "\n",
    "    tt = pd.DataFrame(list(set(newlist_2)))\n",
    "    pure_python = tt[~tt[0].str.contains(pattern)]\n",
    "    pure_python = pure_python[~(pure_python[0]=='python')]\n",
    "    return pure_python"
   ]
  },
  {
   "cell_type": "code",
   "execution_count": 24,
   "metadata": {},
   "outputs": [],
   "source": [
    "pd_2 = find_pure(rules_2)[0]\n",
    "pd_3 = find_pure(rules_3)[0]\n",
    "pd_4 = find_pure(rules_4)[0]\n",
    "pd_5 = find_pure(rules_5)[0]"
   ]
  },
  {
   "cell_type": "code",
   "execution_count": 25,
   "metadata": {},
   "outputs": [],
   "source": [
    "inter_1 = list(set(pd_2).intersection(set(pd_3)))\n",
    "pattern_1 = '|'.join(inter_1)"
   ]
  },
  {
   "cell_type": "code",
   "execution_count": 26,
   "metadata": {},
   "outputs": [],
   "source": [
    "pure_3 = pd_3[~pd_3.str.contains(pattern_1)]"
   ]
  },
  {
   "cell_type": "code",
   "execution_count": 27,
   "metadata": {},
   "outputs": [],
   "source": [
    "inter_2 = list(set(pd_4).intersection(set(pure_3)))\n",
    "pattern_2 = '|'.join(inter_2)"
   ]
  },
  {
   "cell_type": "code",
   "execution_count": 28,
   "metadata": {},
   "outputs": [],
   "source": [
    "p_4 = pd_4[~pd_4.str.contains(pattern_2)]"
   ]
  },
  {
   "cell_type": "code",
   "execution_count": 29,
   "metadata": {},
   "outputs": [],
   "source": [
    "inter_2_1 = list(set(p_4).intersection(set(pd_2)))\n",
    "pattern_2_1 = '|'.join(inter_2_1)"
   ]
  },
  {
   "cell_type": "code",
   "execution_count": 30,
   "metadata": {},
   "outputs": [],
   "source": [
    "pure_4 = p_4[~p_4.str.contains(pattern_2_1)]"
   ]
  },
  {
   "cell_type": "code",
   "execution_count": 31,
   "metadata": {},
   "outputs": [],
   "source": [
    "inter_3 = list(set(pd_5).intersection(set(pd_2)))\n",
    "pattern_3 = '|'.join(inter_3)"
   ]
  },
  {
   "cell_type": "code",
   "execution_count": 32,
   "metadata": {},
   "outputs": [],
   "source": [
    "pd_51 = pd_5[~pd_5.str.contains(pattern_3)]"
   ]
  },
  {
   "cell_type": "code",
   "execution_count": 33,
   "metadata": {},
   "outputs": [],
   "source": [
    "inter_4 = list(set(pd_51).intersection(set(pure_3)))\n",
    "pattern_4 = '|'.join(inter_4)"
   ]
  },
  {
   "cell_type": "code",
   "execution_count": 34,
   "metadata": {},
   "outputs": [],
   "source": [
    "pd_52 = pd_51[~pd_51.str.contains(pattern_4)]"
   ]
  },
  {
   "cell_type": "code",
   "execution_count": 35,
   "metadata": {},
   "outputs": [],
   "source": [
    "pure_5=list(pd_52)\n",
    "for word in list(pd_52):\n",
    "    if word in list(pure_4):\n",
    "        pure_5.remove(word)\n",
    "pure_5 = pd.DataFrame(pure_5)[0]"
   ]
  },
  {
   "cell_type": "code",
   "execution_count": null,
   "metadata": {},
   "outputs": [],
   "source": []
  },
  {
   "cell_type": "code",
   "execution_count": 267,
   "metadata": {},
   "outputs": [],
   "source": [
    "pd_2.to_csv('C:/Users/moham/OneDrive/Desktop/pd_2.csv')\n",
    "pure_3.to_csv('C:/Users/moham/OneDrive/Desktop/pure_3.csv')\n",
    "pure_4.to_csv('C:/Users/moham/OneDrive/Desktop/pure_4.csv')\n",
    "pure_5.to_csv('C:/Users/moham/OneDrive/Desktop/pure_5.csv')"
   ]
  },
  {
   "cell_type": "code",
   "execution_count": null,
   "metadata": {},
   "outputs": [],
   "source": []
  },
  {
   "cell_type": "code",
   "execution_count": 1,
   "metadata": {},
   "outputs": [
    {
     "data": {
      "text/html": [
       "<div>\n",
       "<style scoped>\n",
       "    .dataframe tbody tr th:only-of-type {\n",
       "        vertical-align: middle;\n",
       "    }\n",
       "\n",
       "    .dataframe tbody tr th {\n",
       "        vertical-align: top;\n",
       "    }\n",
       "\n",
       "    .dataframe thead th {\n",
       "        text-align: right;\n",
       "    }\n",
       "</style>\n",
       "<table border=\"1\" class=\"dataframe\">\n",
       "  <thead>\n",
       "    <tr style=\"text-align: right;\">\n",
       "      <th></th>\n",
       "      <th>python_parents</th>\n",
       "      <th>python_related</th>\n",
       "      <th>Level1</th>\n",
       "      <th>Level2</th>\n",
       "      <th>Level3</th>\n",
       "      <th>Level4</th>\n",
       "      <th>Level5</th>\n",
       "    </tr>\n",
       "  </thead>\n",
       "  <tbody>\n",
       "    <tr>\n",
       "      <th>0</th>\n",
       "      <td>python</td>\n",
       "      <td>ipython-notebook</td>\n",
       "      <td>python-3.x</td>\n",
       "      <td>pycharm</td>\n",
       "      <td>writer</td>\n",
       "      <td>duplicate-removal</td>\n",
       "      <td>blas</td>\n",
       "    </tr>\n",
       "    <tr>\n",
       "      <th>1</th>\n",
       "      <td>python-3.x</td>\n",
       "      <td>ipython</td>\n",
       "      <td>ipython-notebook</td>\n",
       "      <td>gtk</td>\n",
       "      <td>email</td>\n",
       "      <td>minimize</td>\n",
       "      <td>sdiff</td>\n",
       "    </tr>\n",
       "    <tr>\n",
       "      <th>2</th>\n",
       "      <td>python-2.7</td>\n",
       "      <td>activepython</td>\n",
       "      <td>python-sphinx</td>\n",
       "      <td>image</td>\n",
       "      <td>boto3</td>\n",
       "      <td>fonts</td>\n",
       "      <td>boost-python</td>\n",
       "    </tr>\n",
       "    <tr>\n",
       "      <th>3</th>\n",
       "      <td>python-2.x</td>\n",
       "      <td>boost-python</td>\n",
       "      <td>python</td>\n",
       "      <td>leaflet</td>\n",
       "      <td>ini</td>\n",
       "      <td>mutable</td>\n",
       "      <td>critical-section</td>\n",
       "    </tr>\n",
       "    <tr>\n",
       "      <th>4</th>\n",
       "      <td>python-3.4</td>\n",
       "      <td>python-import</td>\n",
       "      <td>NaN</td>\n",
       "      <td>permutation</td>\n",
       "      <td>nlp</td>\n",
       "      <td>ocr</td>\n",
       "      <td>regression</td>\n",
       "    </tr>\n",
       "    <tr>\n",
       "      <th>...</th>\n",
       "      <td>...</td>\n",
       "      <td>...</td>\n",
       "      <td>...</td>\n",
       "      <td>...</td>\n",
       "      <td>...</td>\n",
       "      <td>...</td>\n",
       "      <td>...</td>\n",
       "    </tr>\n",
       "    <tr>\n",
       "      <th>212</th>\n",
       "      <td>NaN</td>\n",
       "      <td>NaN</td>\n",
       "      <td>NaN</td>\n",
       "      <td>NaN</td>\n",
       "      <td>NaN</td>\n",
       "      <td>default-value</td>\n",
       "      <td>NaN</td>\n",
       "    </tr>\n",
       "    <tr>\n",
       "      <th>213</th>\n",
       "      <td>NaN</td>\n",
       "      <td>NaN</td>\n",
       "      <td>NaN</td>\n",
       "      <td>NaN</td>\n",
       "      <td>NaN</td>\n",
       "      <td>pickle</td>\n",
       "      <td>NaN</td>\n",
       "    </tr>\n",
       "    <tr>\n",
       "      <th>214</th>\n",
       "      <td>NaN</td>\n",
       "      <td>NaN</td>\n",
       "      <td>NaN</td>\n",
       "      <td>NaN</td>\n",
       "      <td>NaN</td>\n",
       "      <td>html5lib</td>\n",
       "      <td>NaN</td>\n",
       "    </tr>\n",
       "    <tr>\n",
       "      <th>215</th>\n",
       "      <td>NaN</td>\n",
       "      <td>NaN</td>\n",
       "      <td>NaN</td>\n",
       "      <td>NaN</td>\n",
       "      <td>NaN</td>\n",
       "      <td>port</td>\n",
       "      <td>NaN</td>\n",
       "    </tr>\n",
       "    <tr>\n",
       "      <th>216</th>\n",
       "      <td>NaN</td>\n",
       "      <td>NaN</td>\n",
       "      <td>NaN</td>\n",
       "      <td>NaN</td>\n",
       "      <td>NaN</td>\n",
       "      <td>metaclass</td>\n",
       "      <td>NaN</td>\n",
       "    </tr>\n",
       "  </tbody>\n",
       "</table>\n",
       "<p>217 rows × 7 columns</p>\n",
       "</div>"
      ],
      "text/plain": [
       "    python_parents    python_related            Level1       Level2  Level3  \\\n",
       "0           python  ipython-notebook        python-3.x      pycharm  writer   \n",
       "1       python-3.x           ipython  ipython-notebook          gtk   email   \n",
       "2       python-2.7      activepython     python-sphinx        image   boto3   \n",
       "3       python-2.x      boost-python            python      leaflet     ini   \n",
       "4       python-3.4     python-import               NaN  permutation     nlp   \n",
       "..             ...               ...               ...          ...     ...   \n",
       "212            NaN               NaN               NaN          NaN     NaN   \n",
       "213            NaN               NaN               NaN          NaN     NaN   \n",
       "214            NaN               NaN               NaN          NaN     NaN   \n",
       "215            NaN               NaN               NaN          NaN     NaN   \n",
       "216            NaN               NaN               NaN          NaN     NaN   \n",
       "\n",
       "                Level4            Level5  \n",
       "0    duplicate-removal              blas  \n",
       "1             minimize             sdiff  \n",
       "2                fonts      boost-python  \n",
       "3              mutable  critical-section  \n",
       "4                  ocr        regression  \n",
       "..                 ...               ...  \n",
       "212      default-value               NaN  \n",
       "213             pickle               NaN  \n",
       "214           html5lib               NaN  \n",
       "215               port               NaN  \n",
       "216          metaclass               NaN  \n",
       "\n",
       "[217 rows x 7 columns]"
      ]
     },
     "execution_count": 1,
     "metadata": {},
     "output_type": "execute_result"
    }
   ],
   "source": [
    "import pandas as pd\n",
    "pd.read_csv('C:/Users/moham/OneDrive/Desktop/Python_Tags_Levels.csv')"
   ]
  },
  {
   "cell_type": "code",
   "execution_count": null,
   "metadata": {},
   "outputs": [],
   "source": []
  }
 ],
 "metadata": {
  "kernelspec": {
   "display_name": "Python 3 (ipykernel)",
   "language": "python",
   "name": "python3"
  },
  "language_info": {
   "codemirror_mode": {
    "name": "ipython",
    "version": 3
   },
   "file_extension": ".py",
   "mimetype": "text/x-python",
   "name": "python",
   "nbconvert_exporter": "python",
   "pygments_lexer": "ipython3",
   "version": "3.11.4"
  }
 },
 "nbformat": 4,
 "nbformat_minor": 4
}
